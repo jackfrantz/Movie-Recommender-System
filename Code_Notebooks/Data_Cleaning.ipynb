{
 "cells": [
  {
   "cell_type": "markdown",
   "metadata": {},
   "source": [
    "# Data Cleaning\n",
    "In this notebook, we will be cleaning the data sets that were reviewed in the Data Collection notebook. For modeling we need to combine the features we want to use into on dataframe for modeling.\n",
    "<br><br> This includes:\n",
    " - Combining MovieLens and IMDb reviews into one dataframe\n",
    " - \n",
    " - "
   ]
  },
  {
   "cell_type": "code",
   "execution_count": 1,
   "metadata": {},
   "outputs": [],
   "source": [
    "# Imports\n",
    "import pandas as pd"
   ]
  },
  {
   "cell_type": "markdown",
   "metadata": {},
   "source": [
    "## Combining MovieLens and IMDb Reviews\n",
    "### Reformatting Movie IDs\n",
    "Our data from MovieLens comes with three different IDs for each movie, but we will be merging our data using the IMDb ID from our IMDb review data."
   ]
  },
  {
   "cell_type": "code",
   "execution_count": null,
   "metadata": {},
   "outputs": [],
   "source": []
  },
  {
   "cell_type": "markdown",
   "metadata": {},
   "source": [
    "### Reformatting MovieLens Ratings\n",
    "Our MovieLens ratings are scored out of 5, with 10 possible scores. The IMDb scores also have 10 options, but are formatted as 1-10. We can scale these to match so we can combine them into one set of ratings."
   ]
  },
  {
   "cell_type": "code",
   "execution_count": null,
   "metadata": {},
   "outputs": [],
   "source": []
  },
  {
   "cell_type": "markdown",
   "metadata": {},
   "source": [
    "# Next thing"
   ]
  },
  {
   "cell_type": "markdown",
   "metadata": {},
   "source": []
  }
 ],
 "metadata": {
  "kernelspec": {
   "display_name": "base",
   "language": "python",
   "name": "python3"
  },
  "language_info": {
   "codemirror_mode": {
    "name": "ipython",
    "version": 3
   },
   "file_extension": ".py",
   "mimetype": "text/x-python",
   "name": "python",
   "nbconvert_exporter": "python",
   "pygments_lexer": "ipython3",
   "version": "3.11.5"
  }
 },
 "nbformat": 4,
 "nbformat_minor": 2
}
