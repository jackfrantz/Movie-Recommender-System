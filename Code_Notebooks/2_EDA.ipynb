{
 "cells": [
  {
   "cell_type": "markdown",
   "metadata": {},
   "source": [
    "# Exploratory Data Analysis\n",
    "In this notebook, we will look at data on the movies we have available to include in our modeling. Not all of this information will be used in modeling, but it will let us see trends and features of our data that may influence how our recommender system is set up or interpretted."
   ]
  },
  {
   "cell_type": "code",
   "execution_count": 14,
   "metadata": {},
   "outputs": [],
   "source": [
    "# Imports\n",
    "import pandas as pd\n",
    "import numpy as np\n",
    "import seaborn as sns\n",
    "import matplotlib.pyplot as plt"
   ]
  },
  {
   "cell_type": "markdown",
   "metadata": {},
   "source": [
    "## Visualizing Review Data"
   ]
  },
  {
   "cell_type": "markdown",
   "metadata": {},
   "source": [
    "### Reading in our Review Data"
   ]
  },
  {
   "cell_type": "code",
   "execution_count": 7,
   "metadata": {},
   "outputs": [
    {
     "name": "stderr",
     "output_type": "stream",
     "text": [
      "/var/folders/jc/vvd13n2d3m33dzsrsg9ydhb00000gn/T/ipykernel_29946/875535838.py:1: DtypeWarning: Columns (0) have mixed types. Specify dtype option on import or set low_memory=False.\n",
      "  reviews = pd.read_csv('../Data/Large-Data/merged_reviews.csv')\n"
     ]
    }
   ],
   "source": [
    "reviews = pd.read_csv('../Data/Large-Data/merged_reviews.csv')"
   ]
  },
  {
   "cell_type": "code",
   "execution_count": 8,
   "metadata": {},
   "outputs": [
    {
     "data": {
      "text/html": [
       "<div>\n",
       "<style scoped>\n",
       "    .dataframe tbody tr th:only-of-type {\n",
       "        vertical-align: middle;\n",
       "    }\n",
       "\n",
       "    .dataframe tbody tr th {\n",
       "        vertical-align: top;\n",
       "    }\n",
       "\n",
       "    .dataframe thead th {\n",
       "        text-align: right;\n",
       "    }\n",
       "</style>\n",
       "<table border=\"1\" class=\"dataframe\">\n",
       "  <thead>\n",
       "    <tr style=\"text-align: right;\">\n",
       "      <th></th>\n",
       "      <th>user_id</th>\n",
       "      <th>imdb_id</th>\n",
       "      <th>scaled_rating</th>\n",
       "      <th>title</th>\n",
       "    </tr>\n",
       "  </thead>\n",
       "  <tbody>\n",
       "    <tr>\n",
       "      <th>0</th>\n",
       "      <td>1</td>\n",
       "      <td>tt0110912</td>\n",
       "      <td>10.0</td>\n",
       "      <td>Pulp Fiction</td>\n",
       "    </tr>\n",
       "    <tr>\n",
       "      <th>1</th>\n",
       "      <td>1</td>\n",
       "      <td>tt0111495</td>\n",
       "      <td>7.0</td>\n",
       "      <td>Trois couleurs: Rouge</td>\n",
       "    </tr>\n",
       "    <tr>\n",
       "      <th>2</th>\n",
       "      <td>1</td>\n",
       "      <td>tt0108394</td>\n",
       "      <td>10.0</td>\n",
       "      <td>Trois couleurs: Bleu</td>\n",
       "    </tr>\n",
       "    <tr>\n",
       "      <th>3</th>\n",
       "      <td>1</td>\n",
       "      <td>tt0114787</td>\n",
       "      <td>10.0</td>\n",
       "      <td>Underground</td>\n",
       "    </tr>\n",
       "    <tr>\n",
       "      <th>4</th>\n",
       "      <td>1</td>\n",
       "      <td>tt0045152</td>\n",
       "      <td>7.0</td>\n",
       "      <td>Singin' in the Rain</td>\n",
       "    </tr>\n",
       "  </tbody>\n",
       "</table>\n",
       "</div>"
      ],
      "text/plain": [
       "  user_id    imdb_id  scaled_rating                  title\n",
       "0       1  tt0110912           10.0           Pulp Fiction\n",
       "1       1  tt0111495            7.0  Trois couleurs: Rouge\n",
       "2       1  tt0108394           10.0   Trois couleurs: Bleu\n",
       "3       1  tt0114787           10.0            Underground\n",
       "4       1  tt0045152            7.0    Singin' in the Rain"
      ]
     },
     "execution_count": 8,
     "metadata": {},
     "output_type": "execute_result"
    }
   ],
   "source": [
    "reviews.head()"
   ]
  },
  {
   "cell_type": "code",
   "execution_count": 13,
   "metadata": {},
   "outputs": [
    {
     "data": {
      "text/plain": [
       "user_id           object\n",
       "imdb_id           object\n",
       "scaled_rating    float64\n",
       "title             object\n",
       "dtype: object"
      ]
     },
     "execution_count": 13,
     "metadata": {},
     "output_type": "execute_result"
    }
   ],
   "source": [
    "reviews.dtypes"
   ]
  },
  {
   "cell_type": "markdown",
   "metadata": {},
   "source": [
    "### Distribution of Reviews"
   ]
  },
  {
   "cell_type": "code",
   "execution_count": 17,
   "metadata": {},
   "outputs": [
    {
     "data": {
      "image/png": "[encoded data removed]",
      "text/plain": [
       "<Figure size 1000x600 with 1 Axes>"
      ]
     },
     "metadata": {},
     "output_type": "display_data"
    }
   ],
   "source": [
    "plt.figure(figsize=(10, 6))\n",
    "\n",
    "sns.countplot(data=reviews, x='scaled_rating', color='skyblue')\n",
    "\n",
    "plt.title('Distribution of Movie Ratings')\n",
    "plt.xlabel('Scaled Rating')\n",
    "plt.ylabel('Frequency')\n",
    "plt.show()"
   ]
  },
  {
   "cell_type": "markdown",
   "metadata": {},
   "source": [
    "**Interpretation:** Ratings look like they are typically positive. There are significantly more reviews with a rating 6 or more than there are with a rating of 5 or less. It is interesting that there are also more even-numbered ratings compared to their odd-numbered neighbors. This may be because our MovieLens reviews were originally on a scale of 1-5 in intervals of .5. When they were scaled to match the IMDb reviews, we simply doubled the rating, so 2 became 4, 2.5 became 5, and so on. Could this trend be because MovieLens reviewers tended to favor a rating a movie a whole number?"
   ]
  },
  {
   "cell_type": "markdown",
   "metadata": {},
   "source": [
    "### Distribution of Reviews by Source"
   ]
  },
  {
   "cell_type": "code",
   "execution_count": 19,
   "metadata": {},
   "outputs": [],
   "source": [
    "reviews['source'] = reviews['user_id'].astype(str).apply(lambda x: 'MovieLens' if x.isdigit() else 'IMDb')"
   ]
  },
  {
   "cell_type": "code",
   "execution_count": 20,
   "metadata": {},
   "outputs": [
    {
     "data": {
      "text/html": [
       "<div>\n",
       "<style scoped>\n",
       "    .dataframe tbody tr th:only-of-type {\n",
       "        vertical-align: middle;\n",
       "    }\n",
       "\n",
       "    .dataframe tbody tr th {\n",
       "        vertical-align: top;\n",
       "    }\n",
       "\n",
       "    .dataframe thead th {\n",
       "        text-align: right;\n",
       "    }\n",
       "</style>\n",
       "<table border=\"1\" class=\"dataframe\">\n",
       "  <thead>\n",
       "    <tr style=\"text-align: right;\">\n",
       "      <th></th>\n",
       "      <th>user_id</th>\n",
       "      <th>imdb_id</th>\n",
       "      <th>scaled_rating</th>\n",
       "      <th>title</th>\n",
       "      <th>source</th>\n",
       "    </tr>\n",
       "  </thead>\n",
       "  <tbody>\n",
       "    <tr>\n",
       "      <th>0</th>\n",
       "      <td>1</td>\n",
       "      <td>tt0110912</td>\n",
       "      <td>10.0</td>\n",
       "      <td>Pulp Fiction</td>\n",
       "      <td>MovieLens</td>\n",
       "    </tr>\n",
       "    <tr>\n",
       "      <th>1</th>\n",
       "      <td>1</td>\n",
       "      <td>tt0111495</td>\n",
       "      <td>7.0</td>\n",
       "      <td>Trois couleurs: Rouge</td>\n",
       "      <td>MovieLens</td>\n",
       "    </tr>\n",
       "    <tr>\n",
       "      <th>2</th>\n",
       "      <td>1</td>\n",
       "      <td>tt0108394</td>\n",
       "      <td>10.0</td>\n",
       "      <td>Trois couleurs: Bleu</td>\n",
       "      <td>MovieLens</td>\n",
       "    </tr>\n",
       "    <tr>\n",
       "      <th>3</th>\n",
       "      <td>1</td>\n",
       "      <td>tt0114787</td>\n",
       "      <td>10.0</td>\n",
       "      <td>Underground</td>\n",
       "      <td>MovieLens</td>\n",
       "    </tr>\n",
       "    <tr>\n",
       "      <th>4</th>\n",
       "      <td>1</td>\n",
       "      <td>tt0045152</td>\n",
       "      <td>7.0</td>\n",
       "      <td>Singin' in the Rain</td>\n",
       "      <td>MovieLens</td>\n",
       "    </tr>\n",
       "    <tr>\n",
       "      <th>...</th>\n",
       "      <td>...</td>\n",
       "      <td>...</td>\n",
       "      <td>...</td>\n",
       "      <td>...</td>\n",
       "      <td>...</td>\n",
       "    </tr>\n",
       "    <tr>\n",
       "      <th>29326187</th>\n",
       "      <td>ur0581842</td>\n",
       "      <td>tt0107977</td>\n",
       "      <td>6.0</td>\n",
       "      <td>Robin Hood: Men in Tights</td>\n",
       "      <td>IMDb</td>\n",
       "    </tr>\n",
       "    <tr>\n",
       "      <th>29326188</th>\n",
       "      <td>ur3174947</td>\n",
       "      <td>tt0103776</td>\n",
       "      <td>8.0</td>\n",
       "      <td>Batman Returns</td>\n",
       "      <td>IMDb</td>\n",
       "    </tr>\n",
       "    <tr>\n",
       "      <th>29326189</th>\n",
       "      <td>ur4592639</td>\n",
       "      <td>tt0107423</td>\n",
       "      <td>9.0</td>\n",
       "      <td>Lipstick on Your Collar</td>\n",
       "      <td>IMDb</td>\n",
       "    </tr>\n",
       "    <tr>\n",
       "      <th>29326190</th>\n",
       "      <td>ur4581944</td>\n",
       "      <td>tt0102614</td>\n",
       "      <td>8.0</td>\n",
       "      <td>Out for Justice</td>\n",
       "      <td>IMDb</td>\n",
       "    </tr>\n",
       "    <tr>\n",
       "      <th>29326191</th>\n",
       "      <td>ur1162550</td>\n",
       "      <td>tt0325596</td>\n",
       "      <td>7.0</td>\n",
       "      <td>The I Inside</td>\n",
       "      <td>IMDb</td>\n",
       "    </tr>\n",
       "  </tbody>\n",
       "</table>\n",
       "<p>29326192 rows × 5 columns</p>\n",
       "</div>"
      ],
      "text/plain": [
       "            user_id    imdb_id  scaled_rating                      title  \\\n",
       "0                 1  tt0110912           10.0               Pulp Fiction   \n",
       "1                 1  tt0111495            7.0      Trois couleurs: Rouge   \n",
       "2                 1  tt0108394           10.0       Trois couleurs: Bleu   \n",
       "3                 1  tt0114787           10.0                Underground   \n",
       "4                 1  tt0045152            7.0        Singin' in the Rain   \n",
       "...             ...        ...            ...                        ...   \n",
       "29326187  ur0581842  tt0107977            6.0  Robin Hood: Men in Tights   \n",
       "29326188  ur3174947  tt0103776            8.0             Batman Returns   \n",
       "29326189  ur4592639  tt0107423            9.0    Lipstick on Your Collar   \n",
       "29326190  ur4581944  tt0102614            8.0            Out for Justice   \n",
       "29326191  ur1162550  tt0325596            7.0               The I Inside   \n",
       "\n",
       "             source  \n",
       "0         MovieLens  \n",
       "1         MovieLens  \n",
       "2         MovieLens  \n",
       "3         MovieLens  \n",
       "4         MovieLens  \n",
       "...             ...  \n",
       "29326187       IMDb  \n",
       "29326188       IMDb  \n",
       "29326189       IMDb  \n",
       "29326190       IMDb  \n",
       "29326191       IMDb  \n",
       "\n",
       "[29326192 rows x 5 columns]"
      ]
     },
     "execution_count": 20,
     "metadata": {},
     "output_type": "execute_result"
    }
   ],
   "source": [
    "reviews"
   ]
  },
  {
   "cell_type": "code",
   "execution_count": 43,
   "metadata": {},
   "outputs": [
    {
     "data": {
      "text/plain": [
       "source\n",
       "IMDb         6.740738\n",
       "MovieLens    7.067661\n",
       "Name: scaled_rating, dtype: float64"
      ]
     },
     "execution_count": 43,
     "metadata": {},
     "output_type": "execute_result"
    }
   ],
   "source": [
    "avg_ratings = reviews.groupby('source')['scaled_rating'].mean()\n",
    "avg_ratings\n"
   ]
  },
  {
   "cell_type": "code",
   "execution_count": 44,
   "metadata": {},
   "outputs": [
    {
     "data": {
      "image/png": "[encoded data removed]",
      "text/plain": [
       "<Figure size 1000x600 with 1 Axes>"
      ]
     },
     "metadata": {},
     "output_type": "display_data"
    }
   ],
   "source": [
    "plt.figure(figsize=(10, 6))\n",
    "\n",
    "sns.countplot(data=reviews, x='scaled_rating', hue='source')\n",
    "\n",
    "plt.title('Distribution of Ratings by Review Origin')\n",
    "plt.xlabel('Scaled Rating')\n",
    "plt.ylabel('Frequency')\n",
    "plt.legend(title='Review Origin')\n",
    "\n",
    "plt.axvline(x=round(avg_ratings['IMDb'], 2), linestyle='--', color='darkorange', label=f\"Avg. IMDb Rating: {round(avg_ratings['IMDb'], 2)}\")\n",
    "plt.text(avg_ratings['IMDb'] + 0.05, -750000, f\"Avg. IMDb Rating: {round(avg_ratings['IMDb'], 2)}\", color='darkorange')\n",
    "\n",
    "plt.axvline(x=round(avg_ratings['MovieLens'], 2), linestyle='--', color='mediumblue', label=f\"Avg. MovieLens Rating: {round(avg_ratings['MovieLens'], 2)}\")\n",
    "plt.text(avg_ratings['MovieLens'] + .05, -500000, f\"Avg. MovieLens Rating: {round(avg_ratings['MovieLens'], 2)}\", color='mediumblue')\n",
    "\n",
    "plt.show()"
   ]
  },
  {
   "cell_type": "markdown",
   "metadata": {},
   "source": [
    "**Interpretation:** It looks like our hypothesis was correct, as the trend of even and odd reviews only appears in the MovieLens reviews. This could be from the data collection. If some users were only given the option to give whole number ratings it would skew the results. It looks like MovieLens users are also rate movies more favorably, with an average rating of 7.06 compared to IMDb's 6.74."
   ]
  },
  {
   "cell_type": "markdown",
   "metadata": {},
   "source": [
    "## Top Rated Movies\n",
    "We will be using just MovieLens reviews for this because there may be TV data mixed in with the IMDb reviews."
   ]
  },
  {
   "cell_type": "code",
   "execution_count": null,
   "metadata": {},
   "outputs": [],
   "source": [
    "ml_reviews = pd.read_csv('')"
   ]
  },
  {
   "cell_type": "code",
   "execution_count": 81,
   "metadata": {},
   "outputs": [
    {
     "data": {
      "text/plain": [
       "imdb_id\n",
       "tt0000001    20\n",
       "tt0000003    26\n",
       "tt0000005    18\n",
       "tt0000007     8\n",
       "tt0000008    33\n",
       "             ..\n",
       "tt9915686    13\n",
       "tt9916190    62\n",
       "tt9916270     4\n",
       "tt9916362     1\n",
       "tt9916428     1\n",
       "Length: 244578, dtype: int64"
      ]
     },
     "execution_count": 81,
     "metadata": {},
     "output_type": "execute_result"
    }
   ],
   "source": [
    "# Calculate the count of reviews for each movie\n",
    "reviews_per_movie = reviews.groupby('imdb_id').size()\n",
    "reviews_per_movie"
   ]
  },
  {
   "cell_type": "code",
   "execution_count": 87,
   "metadata": {},
   "outputs": [
    {
     "data": {
      "text/plain": [
       "Index(['tt0010323', 'tt0012349', 'tt0013442', 'tt0015648', 'tt0015864',\n",
       "       'tt0017136', 'tt0017925', 'tt0019254', 'tt0019422', 'tt0020530',\n",
       "       ...\n",
       "       'tt9243946', 'tt9471404', 'tt9495224', 'tt9612516', 'tt9614460',\n",
       "       'tt9649436', 'tt9680440', 'tt9708358', 'tt9778022', 'tt9875006'],\n",
       "      dtype='object', name='imdb_id', length=4316)"
      ]
     },
     "execution_count": 87,
     "metadata": {},
     "output_type": "execute_result"
    }
   ],
   "source": [
    "# Filter out movies with less than 5 reviews\n",
    "movies_over_1000_reviews = reviews_per_movie[reviews_per_movie >= 1000].index\n",
    "movies_over_1000_reviews"
   ]
  },
  {
   "cell_type": "code",
   "execution_count": 88,
   "metadata": {},
   "outputs": [
    {
     "data": {
      "text/html": [
       "<div>\n",
       "<style scoped>\n",
       "    .dataframe tbody tr th:only-of-type {\n",
       "        vertical-align: middle;\n",
       "    }\n",
       "\n",
       "    .dataframe tbody tr th {\n",
       "        vertical-align: top;\n",
       "    }\n",
       "\n",
       "    .dataframe thead th {\n",
       "        text-align: right;\n",
       "    }\n",
       "</style>\n",
       "<table border=\"1\" class=\"dataframe\">\n",
       "  <thead>\n",
       "    <tr style=\"text-align: right;\">\n",
       "      <th></th>\n",
       "      <th>user_id</th>\n",
       "      <th>imdb_id</th>\n",
       "      <th>scaled_rating</th>\n",
       "      <th>title</th>\n",
       "      <th>source</th>\n",
       "    </tr>\n",
       "  </thead>\n",
       "  <tbody>\n",
       "    <tr>\n",
       "      <th>0</th>\n",
       "      <td>1</td>\n",
       "      <td>tt0110912</td>\n",
       "      <td>10.0</td>\n",
       "      <td>Pulp Fiction</td>\n",
       "      <td>MovieLens</td>\n",
       "    </tr>\n",
       "    <tr>\n",
       "      <th>1</th>\n",
       "      <td>1</td>\n",
       "      <td>tt0111495</td>\n",
       "      <td>7.0</td>\n",
       "      <td>Trois couleurs: Rouge</td>\n",
       "      <td>MovieLens</td>\n",
       "    </tr>\n",
       "    <tr>\n",
       "      <th>2</th>\n",
       "      <td>1</td>\n",
       "      <td>tt0108394</td>\n",
       "      <td>10.0</td>\n",
       "      <td>Trois couleurs: Bleu</td>\n",
       "      <td>MovieLens</td>\n",
       "    </tr>\n",
       "    <tr>\n",
       "      <th>3</th>\n",
       "      <td>1</td>\n",
       "      <td>tt0114787</td>\n",
       "      <td>10.0</td>\n",
       "      <td>Underground</td>\n",
       "      <td>MovieLens</td>\n",
       "    </tr>\n",
       "    <tr>\n",
       "      <th>4</th>\n",
       "      <td>1</td>\n",
       "      <td>tt0045152</td>\n",
       "      <td>7.0</td>\n",
       "      <td>Singin' in the Rain</td>\n",
       "      <td>MovieLens</td>\n",
       "    </tr>\n",
       "    <tr>\n",
       "      <th>...</th>\n",
       "      <td>...</td>\n",
       "      <td>...</td>\n",
       "      <td>...</td>\n",
       "      <td>...</td>\n",
       "      <td>...</td>\n",
       "    </tr>\n",
       "    <tr>\n",
       "      <th>29326182</th>\n",
       "      <td>ur3174947</td>\n",
       "      <td>tt0103772</td>\n",
       "      <td>8.0</td>\n",
       "      <td>Basic Instinct</td>\n",
       "      <td>IMDb</td>\n",
       "    </tr>\n",
       "    <tr>\n",
       "      <th>29326183</th>\n",
       "      <td>ur4592589</td>\n",
       "      <td>tt0356618</td>\n",
       "      <td>2.0</td>\n",
       "      <td>The Forgotten</td>\n",
       "      <td>IMDb</td>\n",
       "    </tr>\n",
       "    <tr>\n",
       "      <th>29326186</th>\n",
       "      <td>ur3174947</td>\n",
       "      <td>tt0096895</td>\n",
       "      <td>8.0</td>\n",
       "      <td>Batman</td>\n",
       "      <td>IMDb</td>\n",
       "    </tr>\n",
       "    <tr>\n",
       "      <th>29326187</th>\n",
       "      <td>ur0581842</td>\n",
       "      <td>tt0107977</td>\n",
       "      <td>6.0</td>\n",
       "      <td>Robin Hood: Men in Tights</td>\n",
       "      <td>IMDb</td>\n",
       "    </tr>\n",
       "    <tr>\n",
       "      <th>29326188</th>\n",
       "      <td>ur3174947</td>\n",
       "      <td>tt0103776</td>\n",
       "      <td>8.0</td>\n",
       "      <td>Batman Returns</td>\n",
       "      <td>IMDb</td>\n",
       "    </tr>\n",
       "  </tbody>\n",
       "</table>\n",
       "<p>24243898 rows × 5 columns</p>\n",
       "</div>"
      ],
      "text/plain": [
       "            user_id    imdb_id  scaled_rating                      title  \\\n",
       "0                 1  tt0110912           10.0               Pulp Fiction   \n",
       "1                 1  tt0111495            7.0      Trois couleurs: Rouge   \n",
       "2                 1  tt0108394           10.0       Trois couleurs: Bleu   \n",
       "3                 1  tt0114787           10.0                Underground   \n",
       "4                 1  tt0045152            7.0        Singin' in the Rain   \n",
       "...             ...        ...            ...                        ...   \n",
       "29326182  ur3174947  tt0103772            8.0             Basic Instinct   \n",
       "29326183  ur4592589  tt0356618            2.0              The Forgotten   \n",
       "29326186  ur3174947  tt0096895            8.0                     Batman   \n",
       "29326187  ur0581842  tt0107977            6.0  Robin Hood: Men in Tights   \n",
       "29326188  ur3174947  tt0103776            8.0             Batman Returns   \n",
       "\n",
       "             source  \n",
       "0         MovieLens  \n",
       "1         MovieLens  \n",
       "2         MovieLens  \n",
       "3         MovieLens  \n",
       "4         MovieLens  \n",
       "...             ...  \n",
       "29326182       IMDb  \n",
       "29326183       IMDb  \n",
       "29326186       IMDb  \n",
       "29326187       IMDb  \n",
       "29326188       IMDb  \n",
       "\n",
       "[24243898 rows x 5 columns]"
      ]
     },
     "execution_count": 88,
     "metadata": {},
     "output_type": "execute_result"
    }
   ],
   "source": [
    "# Filter the DataFrame to include only reviews for valid movies\n",
    "reviews_filtered = reviews[reviews['imdb_id'].isin(movies_over_1000_reviews)]\n",
    "reviews_filtered"
   ]
  },
  {
   "cell_type": "code",
   "execution_count": 89,
   "metadata": {},
   "outputs": [
    {
     "data": {
      "text/html": [
       "<div>\n",
       "<style scoped>\n",
       "    .dataframe tbody tr th:only-of-type {\n",
       "        vertical-align: middle;\n",
       "    }\n",
       "\n",
       "    .dataframe tbody tr th {\n",
       "        vertical-align: top;\n",
       "    }\n",
       "\n",
       "    .dataframe thead th {\n",
       "        text-align: right;\n",
       "    }\n",
       "</style>\n",
       "<table border=\"1\" class=\"dataframe\">\n",
       "  <thead>\n",
       "    <tr style=\"text-align: right;\">\n",
       "      <th></th>\n",
       "      <th>imdb_id</th>\n",
       "      <th>scaled_rating</th>\n",
       "    </tr>\n",
       "  </thead>\n",
       "  <tbody>\n",
       "    <tr>\n",
       "      <th>0</th>\n",
       "      <td>tt0010323</td>\n",
       "      <td>7.882414</td>\n",
       "    </tr>\n",
       "    <tr>\n",
       "      <th>1</th>\n",
       "      <td>tt0012349</td>\n",
       "      <td>7.961688</td>\n",
       "    </tr>\n",
       "    <tr>\n",
       "      <th>2</th>\n",
       "      <td>tt0013442</td>\n",
       "      <td>7.798797</td>\n",
       "    </tr>\n",
       "    <tr>\n",
       "      <th>3</th>\n",
       "      <td>tt0015648</td>\n",
       "      <td>7.732002</td>\n",
       "    </tr>\n",
       "    <tr>\n",
       "      <th>4</th>\n",
       "      <td>tt0015864</td>\n",
       "      <td>8.126387</td>\n",
       "    </tr>\n",
       "    <tr>\n",
       "      <th>...</th>\n",
       "      <td>...</td>\n",
       "      <td>...</td>\n",
       "    </tr>\n",
       "    <tr>\n",
       "      <th>4311</th>\n",
       "      <td>tt9649436</td>\n",
       "      <td>7.999090</td>\n",
       "    </tr>\n",
       "    <tr>\n",
       "      <th>4312</th>\n",
       "      <td>tt9680440</td>\n",
       "      <td>8.332351</td>\n",
       "    </tr>\n",
       "    <tr>\n",
       "      <th>4313</th>\n",
       "      <td>tt9708358</td>\n",
       "      <td>9.840714</td>\n",
       "    </tr>\n",
       "    <tr>\n",
       "      <th>4314</th>\n",
       "      <td>tt9778022</td>\n",
       "      <td>9.059342</td>\n",
       "    </tr>\n",
       "    <tr>\n",
       "      <th>4315</th>\n",
       "      <td>tt9875006</td>\n",
       "      <td>7.884615</td>\n",
       "    </tr>\n",
       "  </tbody>\n",
       "</table>\n",
       "<p>4316 rows × 2 columns</p>\n",
       "</div>"
      ],
      "text/plain": [
       "        imdb_id  scaled_rating\n",
       "0     tt0010323       7.882414\n",
       "1     tt0012349       7.961688\n",
       "2     tt0013442       7.798797\n",
       "3     tt0015648       7.732002\n",
       "4     tt0015864       8.126387\n",
       "...         ...            ...\n",
       "4311  tt9649436       7.999090\n",
       "4312  tt9680440       8.332351\n",
       "4313  tt9708358       9.840714\n",
       "4314  tt9778022       9.059342\n",
       "4315  tt9875006       7.884615\n",
       "\n",
       "[4316 rows x 2 columns]"
      ]
     },
     "execution_count": 89,
     "metadata": {},
     "output_type": "execute_result"
    }
   ],
   "source": [
    "# Calculate the average rating for each movie\n",
    "average_ratings_per_movie = reviews_filtered.groupby(['imdb_id'])['scaled_rating'].mean().reset_index()\n",
    "average_ratings_per_movie"
   ]
  },
  {
   "cell_type": "code",
   "execution_count": 90,
   "metadata": {},
   "outputs": [
    {
     "data": {
      "text/html": [
       "<div>\n",
       "<style scoped>\n",
       "    .dataframe tbody tr th:only-of-type {\n",
       "        vertical-align: middle;\n",
       "    }\n",
       "\n",
       "    .dataframe tbody tr th {\n",
       "        vertical-align: top;\n",
       "    }\n",
       "\n",
       "    .dataframe thead th {\n",
       "        text-align: right;\n",
       "    }\n",
       "</style>\n",
       "<table border=\"1\" class=\"dataframe\">\n",
       "  <thead>\n",
       "    <tr style=\"text-align: right;\">\n",
       "      <th></th>\n",
       "      <th>imdb_id</th>\n",
       "      <th>scaled_rating</th>\n",
       "      <th>title</th>\n",
       "    </tr>\n",
       "  </thead>\n",
       "  <tbody>\n",
       "    <tr>\n",
       "      <th>0</th>\n",
       "      <td>tt0010323</td>\n",
       "      <td>7.882414</td>\n",
       "      <td>Das Cabinet des Dr. Caligari</td>\n",
       "    </tr>\n",
       "    <tr>\n",
       "      <th>1</th>\n",
       "      <td>tt0012349</td>\n",
       "      <td>7.961688</td>\n",
       "      <td>The Kid</td>\n",
       "    </tr>\n",
       "    <tr>\n",
       "      <th>2</th>\n",
       "      <td>tt0013442</td>\n",
       "      <td>7.798797</td>\n",
       "      <td>Nosferatu, eine Symphonie des Grauens</td>\n",
       "    </tr>\n",
       "    <tr>\n",
       "      <th>3</th>\n",
       "      <td>tt0015648</td>\n",
       "      <td>7.732002</td>\n",
       "      <td>Bronenosets Potemkin</td>\n",
       "    </tr>\n",
       "    <tr>\n",
       "      <th>4</th>\n",
       "      <td>tt0015864</td>\n",
       "      <td>8.126387</td>\n",
       "      <td>The Gold Rush</td>\n",
       "    </tr>\n",
       "    <tr>\n",
       "      <th>...</th>\n",
       "      <td>...</td>\n",
       "      <td>...</td>\n",
       "      <td>...</td>\n",
       "    </tr>\n",
       "    <tr>\n",
       "      <th>4311</th>\n",
       "      <td>tt9649436</td>\n",
       "      <td>7.999090</td>\n",
       "      <td>Enaaya</td>\n",
       "    </tr>\n",
       "    <tr>\n",
       "      <th>4312</th>\n",
       "      <td>tt9680440</td>\n",
       "      <td>8.332351</td>\n",
       "      <td>Paatal Lok</td>\n",
       "    </tr>\n",
       "    <tr>\n",
       "      <th>4313</th>\n",
       "      <td>tt9708358</td>\n",
       "      <td>9.840714</td>\n",
       "      <td>Uncle Tom</td>\n",
       "    </tr>\n",
       "    <tr>\n",
       "      <th>4314</th>\n",
       "      <td>tt9778022</td>\n",
       "      <td>9.059342</td>\n",
       "      <td>Abhay</td>\n",
       "    </tr>\n",
       "    <tr>\n",
       "      <th>4315</th>\n",
       "      <td>tt9875006</td>\n",
       "      <td>7.884615</td>\n",
       "      <td>Flesh</td>\n",
       "    </tr>\n",
       "  </tbody>\n",
       "</table>\n",
       "<p>4316 rows × 3 columns</p>\n",
       "</div>"
      ],
      "text/plain": [
       "        imdb_id  scaled_rating                                  title\n",
       "0     tt0010323       7.882414           Das Cabinet des Dr. Caligari\n",
       "1     tt0012349       7.961688                                The Kid\n",
       "2     tt0013442       7.798797  Nosferatu, eine Symphonie des Grauens\n",
       "3     tt0015648       7.732002                   Bronenosets Potemkin\n",
       "4     tt0015864       8.126387                          The Gold Rush\n",
       "...         ...            ...                                    ...\n",
       "4311  tt9649436       7.999090                                 Enaaya\n",
       "4312  tt9680440       8.332351                             Paatal Lok\n",
       "4313  tt9708358       9.840714                              Uncle Tom\n",
       "4314  tt9778022       9.059342                                  Abhay\n",
       "4315  tt9875006       7.884615                                  Flesh\n",
       "\n",
       "[4316 rows x 3 columns]"
      ]
     },
     "execution_count": 90,
     "metadata": {},
     "output_type": "execute_result"
    }
   ],
   "source": [
    "average_ratings_with_titles = pd.merge(average_ratings_per_movie, reviews_filtered[['imdb_id', 'title']].drop_duplicates(), on='imdb_id', how='left')\n",
    "average_ratings_with_titles"
   ]
  },
  {
   "cell_type": "code",
   "execution_count": 91,
   "metadata": {},
   "outputs": [
    {
     "data": {
      "text/html": [
       "<div>\n",
       "<style scoped>\n",
       "    .dataframe tbody tr th:only-of-type {\n",
       "        vertical-align: middle;\n",
       "    }\n",
       "\n",
       "    .dataframe tbody tr th {\n",
       "        vertical-align: top;\n",
       "    }\n",
       "\n",
       "    .dataframe thead th {\n",
       "        text-align: right;\n",
       "    }\n",
       "</style>\n",
       "<table border=\"1\" class=\"dataframe\">\n",
       "  <thead>\n",
       "    <tr style=\"text-align: right;\">\n",
       "      <th></th>\n",
       "      <th>imdb_id</th>\n",
       "      <th>scaled_rating</th>\n",
       "      <th>title</th>\n",
       "    </tr>\n",
       "  </thead>\n",
       "  <tbody>\n",
       "    <tr>\n",
       "      <th>4307</th>\n",
       "      <td>tt9471404</td>\n",
       "      <td>9.940375</td>\n",
       "      <td>The Chosen</td>\n",
       "    </tr>\n",
       "    <tr>\n",
       "      <th>4297</th>\n",
       "      <td>tt8809646</td>\n",
       "      <td>9.841540</td>\n",
       "      <td>College Romance</td>\n",
       "    </tr>\n",
       "    <tr>\n",
       "      <th>4313</th>\n",
       "      <td>tt9708358</td>\n",
       "      <td>9.840714</td>\n",
       "      <td>Uncle Tom</td>\n",
       "    </tr>\n",
       "    <tr>\n",
       "      <th>3630</th>\n",
       "      <td>tt12392504</td>\n",
       "      <td>9.840074</td>\n",
       "      <td>Scam 1992: The Harshad Mehta Story</td>\n",
       "    </tr>\n",
       "    <tr>\n",
       "      <th>4284</th>\n",
       "      <td>tt8110330</td>\n",
       "      <td>9.709277</td>\n",
       "      <td>Dil Bechara</td>\n",
       "    </tr>\n",
       "    <tr>\n",
       "      <th>4298</th>\n",
       "      <td>tt8893550</td>\n",
       "      <td>9.709107</td>\n",
       "      <td>Car Masters: Rust to Riches</td>\n",
       "    </tr>\n",
       "    <tr>\n",
       "      <th>3465</th>\n",
       "      <td>tt10189514</td>\n",
       "      <td>9.601365</td>\n",
       "      <td>Soorarai Pottru</td>\n",
       "    </tr>\n",
       "    <tr>\n",
       "      <th>4267</th>\n",
       "      <td>tt7366338</td>\n",
       "      <td>9.447575</td>\n",
       "      <td>Chernobyl</td>\n",
       "    </tr>\n",
       "    <tr>\n",
       "      <th>3401</th>\n",
       "      <td>tt0903747</td>\n",
       "      <td>9.215479</td>\n",
       "      <td>Breaking Bad</td>\n",
       "    </tr>\n",
       "    <tr>\n",
       "      <th>3456</th>\n",
       "      <td>tt10048342</td>\n",
       "      <td>9.194212</td>\n",
       "      <td>The Queen's Gambit</td>\n",
       "    </tr>\n",
       "  </tbody>\n",
       "</table>\n",
       "</div>"
      ],
      "text/plain": [
       "         imdb_id  scaled_rating                               title\n",
       "4307   tt9471404       9.940375                          The Chosen\n",
       "4297   tt8809646       9.841540                     College Romance\n",
       "4313   tt9708358       9.840714                           Uncle Tom\n",
       "3630  tt12392504       9.840074  Scam 1992: The Harshad Mehta Story\n",
       "4284   tt8110330       9.709277                         Dil Bechara\n",
       "4298   tt8893550       9.709107         Car Masters: Rust to Riches\n",
       "3465  tt10189514       9.601365                     Soorarai Pottru\n",
       "4267   tt7366338       9.447575                           Chernobyl\n",
       "3401   tt0903747       9.215479                        Breaking Bad\n",
       "3456  tt10048342       9.194212                  The Queen's Gambit"
      ]
     },
     "execution_count": 91,
     "metadata": {},
     "output_type": "execute_result"
    }
   ],
   "source": [
    "# Sort the movies based on their overall average ratings\n",
    "top_10_movies = average_ratings_with_titles.sort_values(by = 'scaled_rating', ascending=False).head(10)\n",
    "top_10_movies"
   ]
  },
  {
   "cell_type": "code",
   "execution_count": null,
   "metadata": {},
   "outputs": [],
   "source": [
    "# Plotting the top-rated movies\n",
    "plt.figure(figsize=(10, 6))\n",
    "\n",
    "sns.barplot(x=top_10_movies.values, y=top_10_movies['title'], palette='viridis')\n",
    "\n",
    "plt.title('Top-Rated Movies')\n",
    "plt.xlabel('Average Rating')\n",
    "plt.ylabel('Movie Title')\n",
    "\n",
    "plt.show()"
   ]
  },
  {
   "cell_type": "code",
   "execution_count": null,
   "metadata": {},
   "outputs": [],
   "source": [
    "# Get the titles of the top-rated movies\n",
    "top_rated_movie_titles = average_ratings_with_titles[average_ratings_with_titles['imdb_id'].isin(top_rated_movies.index)]['title'].unique()\n"
   ]
  },
  {
   "cell_type": "code",
   "execution_count": 50,
   "metadata": {},
   "outputs": [
    {
     "ename": "ValueError",
     "evalue": "'source' is both an index level and a column label, which is ambiguous.",
     "output_type": "error",
     "traceback": [
      "\u001b[0;31m---------------------------------------------------------------------------\u001b[0m",
      "\u001b[0;31mValueError\u001b[0m                                Traceback (most recent call last)",
      "\u001b[0;32m/var/folders/jc/vvd13n2d3m33dzsrsg9ydhb00000gn/T/ipykernel_29946/1352553678.py\u001b[0m in \u001b[0;36m?\u001b[0;34m()\u001b[0m\n\u001b[1;32m     15\u001b[0m \u001b[0;34m\u001b[0m\u001b[0m\n\u001b[1;32m     16\u001b[0m \u001b[0;31m# Plotting the top-rated movies for each user ID format\u001b[0m\u001b[0;34m\u001b[0m\u001b[0;34m\u001b[0m\u001b[0m\n\u001b[1;32m     17\u001b[0m \u001b[0mplt\u001b[0m\u001b[0;34m.\u001b[0m\u001b[0mfigure\u001b[0m\u001b[0;34m(\u001b[0m\u001b[0mfigsize\u001b[0m\u001b[0;34m=\u001b[0m\u001b[0;34m(\u001b[0m\u001b[0;36m12\u001b[0m\u001b[0;34m,\u001b[0m \u001b[0;36m8\u001b[0m\u001b[0;34m)\u001b[0m\u001b[0;34m)\u001b[0m\u001b[0;34m\u001b[0m\u001b[0;34m\u001b[0m\u001b[0m\n\u001b[1;32m     18\u001b[0m \u001b[0;34m\u001b[0m\u001b[0m\n\u001b[0;32m---> 19\u001b[0;31m \u001b[0;32mfor\u001b[0m \u001b[0muser_format\u001b[0m\u001b[0;34m,\u001b[0m \u001b[0mdata\u001b[0m \u001b[0;32min\u001b[0m \u001b[0mtop_rated_movies\u001b[0m\u001b[0;34m.\u001b[0m\u001b[0mgroupby\u001b[0m\u001b[0;34m(\u001b[0m\u001b[0;34m'source'\u001b[0m\u001b[0;34m)\u001b[0m\u001b[0;34m:\u001b[0m\u001b[0;34m\u001b[0m\u001b[0;34m\u001b[0m\u001b[0m\n\u001b[0m\u001b[1;32m     20\u001b[0m     \u001b[0msns\u001b[0m\u001b[0;34m.\u001b[0m\u001b[0mbarplot\u001b[0m\u001b[0;34m(\u001b[0m\u001b[0mx\u001b[0m\u001b[0;34m=\u001b[0m\u001b[0;34m'scaled_rating'\u001b[0m\u001b[0;34m,\u001b[0m \u001b[0my\u001b[0m\u001b[0;34m=\u001b[0m\u001b[0;34m'title'\u001b[0m\u001b[0;34m,\u001b[0m \u001b[0mdata\u001b[0m\u001b[0;34m=\u001b[0m\u001b[0mdata\u001b[0m\u001b[0;34m,\u001b[0m \u001b[0mpalette\u001b[0m\u001b[0;34m=\u001b[0m\u001b[0;34m'viridis'\u001b[0m\u001b[0;34m,\u001b[0m \u001b[0mlabel\u001b[0m\u001b[0;34m=\u001b[0m\u001b[0muser_format\u001b[0m\u001b[0;34m)\u001b[0m\u001b[0;34m\u001b[0m\u001b[0;34m\u001b[0m\u001b[0m\n\u001b[1;32m     21\u001b[0m \u001b[0;34m\u001b[0m\u001b[0m\n\u001b[1;32m     22\u001b[0m \u001b[0mplt\u001b[0m\u001b[0;34m.\u001b[0m\u001b[0mtitle\u001b[0m\u001b[0;34m(\u001b[0m\u001b[0;34m'Top-Rated Movies by User ID Format (with at least 5 reviews)'\u001b[0m\u001b[0;34m)\u001b[0m\u001b[0;34m\u001b[0m\u001b[0;34m\u001b[0m\u001b[0m\n",
      "\u001b[0;32m~/anaconda3/lib/python3.11/site-packages/pandas/core/frame.py\u001b[0m in \u001b[0;36m?\u001b[0;34m(self, by, axis, level, as_index, sort, group_keys, observed, dropna)\u001b[0m\n\u001b[1;32m   8248\u001b[0m         \u001b[0;32mif\u001b[0m \u001b[0mlevel\u001b[0m \u001b[0;32mis\u001b[0m \u001b[0;32mNone\u001b[0m \u001b[0;32mand\u001b[0m \u001b[0mby\u001b[0m \u001b[0;32mis\u001b[0m \u001b[0;32mNone\u001b[0m\u001b[0;34m:\u001b[0m\u001b[0;34m\u001b[0m\u001b[0;34m\u001b[0m\u001b[0m\n\u001b[1;32m   8249\u001b[0m             \u001b[0;32mraise\u001b[0m \u001b[0mTypeError\u001b[0m\u001b[0;34m(\u001b[0m\u001b[0;34m\"You have to supply one of 'by' and 'level'\"\u001b[0m\u001b[0;34m)\u001b[0m\u001b[0;34m\u001b[0m\u001b[0;34m\u001b[0m\u001b[0m\n\u001b[1;32m   8250\u001b[0m         \u001b[0maxis\u001b[0m \u001b[0;34m=\u001b[0m \u001b[0mself\u001b[0m\u001b[0;34m.\u001b[0m\u001b[0m_get_axis_number\u001b[0m\u001b[0;34m(\u001b[0m\u001b[0maxis\u001b[0m\u001b[0;34m)\u001b[0m\u001b[0;34m\u001b[0m\u001b[0;34m\u001b[0m\u001b[0m\n\u001b[1;32m   8251\u001b[0m \u001b[0;34m\u001b[0m\u001b[0m\n\u001b[0;32m-> 8252\u001b[0;31m         return DataFrameGroupBy(\n\u001b[0m\u001b[1;32m   8253\u001b[0m             \u001b[0mobj\u001b[0m\u001b[0;34m=\u001b[0m\u001b[0mself\u001b[0m\u001b[0;34m,\u001b[0m\u001b[0;34m\u001b[0m\u001b[0;34m\u001b[0m\u001b[0m\n\u001b[1;32m   8254\u001b[0m             \u001b[0mkeys\u001b[0m\u001b[0;34m=\u001b[0m\u001b[0mby\u001b[0m\u001b[0;34m,\u001b[0m\u001b[0;34m\u001b[0m\u001b[0;34m\u001b[0m\u001b[0m\n\u001b[1;32m   8255\u001b[0m             \u001b[0maxis\u001b[0m\u001b[0;34m=\u001b[0m\u001b[0maxis\u001b[0m\u001b[0;34m,\u001b[0m\u001b[0;34m\u001b[0m\u001b[0;34m\u001b[0m\u001b[0m\n",
      "\u001b[0;32m~/anaconda3/lib/python3.11/site-packages/pandas/core/groupby/groupby.py\u001b[0m in \u001b[0;36m?\u001b[0;34m(self, obj, keys, axis, level, grouper, exclusions, selection, as_index, sort, group_keys, observed, dropna)\u001b[0m\n\u001b[1;32m    927\u001b[0m         \u001b[0mself\u001b[0m\u001b[0;34m.\u001b[0m\u001b[0mobserved\u001b[0m \u001b[0;34m=\u001b[0m \u001b[0mobserved\u001b[0m\u001b[0;34m\u001b[0m\u001b[0;34m\u001b[0m\u001b[0m\n\u001b[1;32m    928\u001b[0m         \u001b[0mself\u001b[0m\u001b[0;34m.\u001b[0m\u001b[0mdropna\u001b[0m \u001b[0;34m=\u001b[0m \u001b[0mdropna\u001b[0m\u001b[0;34m\u001b[0m\u001b[0;34m\u001b[0m\u001b[0m\n\u001b[1;32m    929\u001b[0m \u001b[0;34m\u001b[0m\u001b[0m\n\u001b[1;32m    930\u001b[0m         \u001b[0;32mif\u001b[0m \u001b[0mgrouper\u001b[0m \u001b[0;32mis\u001b[0m \u001b[0;32mNone\u001b[0m\u001b[0;34m:\u001b[0m\u001b[0;34m\u001b[0m\u001b[0;34m\u001b[0m\u001b[0m\n\u001b[0;32m--> 931\u001b[0;31m             grouper, exclusions, obj = get_grouper(\n\u001b[0m\u001b[1;32m    932\u001b[0m                 \u001b[0mobj\u001b[0m\u001b[0;34m,\u001b[0m\u001b[0;34m\u001b[0m\u001b[0;34m\u001b[0m\u001b[0m\n\u001b[1;32m    933\u001b[0m                 \u001b[0mkeys\u001b[0m\u001b[0;34m,\u001b[0m\u001b[0;34m\u001b[0m\u001b[0;34m\u001b[0m\u001b[0m\n\u001b[1;32m    934\u001b[0m                 \u001b[0maxis\u001b[0m\u001b[0;34m=\u001b[0m\u001b[0maxis\u001b[0m\u001b[0;34m,\u001b[0m\u001b[0;34m\u001b[0m\u001b[0;34m\u001b[0m\u001b[0m\n",
      "\u001b[0;32m~/anaconda3/lib/python3.11/site-packages/pandas/core/groupby/grouper.py\u001b[0m in \u001b[0;36m?\u001b[0;34m(obj, key, axis, level, sort, observed, validate, dropna)\u001b[0m\n\u001b[1;32m    971\u001b[0m \u001b[0;34m\u001b[0m\u001b[0m\n\u001b[1;32m    972\u001b[0m         \u001b[0;32melif\u001b[0m \u001b[0mis_in_axis\u001b[0m\u001b[0;34m(\u001b[0m\u001b[0mgpr\u001b[0m\u001b[0;34m)\u001b[0m\u001b[0;34m:\u001b[0m  \u001b[0;31m# df.groupby('name')\u001b[0m\u001b[0;34m\u001b[0m\u001b[0;34m\u001b[0m\u001b[0m\n\u001b[1;32m    973\u001b[0m             \u001b[0;32mif\u001b[0m \u001b[0mobj\u001b[0m\u001b[0;34m.\u001b[0m\u001b[0mndim\u001b[0m \u001b[0;34m!=\u001b[0m \u001b[0;36m1\u001b[0m \u001b[0;32mand\u001b[0m \u001b[0mgpr\u001b[0m \u001b[0;32min\u001b[0m \u001b[0mobj\u001b[0m\u001b[0;34m:\u001b[0m\u001b[0;34m\u001b[0m\u001b[0;34m\u001b[0m\u001b[0m\n\u001b[1;32m    974\u001b[0m                 \u001b[0;32mif\u001b[0m \u001b[0mvalidate\u001b[0m\u001b[0;34m:\u001b[0m\u001b[0;34m\u001b[0m\u001b[0;34m\u001b[0m\u001b[0m\n\u001b[0;32m--> 975\u001b[0;31m                     \u001b[0mobj\u001b[0m\u001b[0;34m.\u001b[0m\u001b[0m_check_label_or_level_ambiguity\u001b[0m\u001b[0;34m(\u001b[0m\u001b[0mgpr\u001b[0m\u001b[0;34m,\u001b[0m \u001b[0maxis\u001b[0m\u001b[0;34m=\u001b[0m\u001b[0maxis\u001b[0m\u001b[0;34m)\u001b[0m\u001b[0;34m\u001b[0m\u001b[0;34m\u001b[0m\u001b[0m\n\u001b[0m\u001b[1;32m    976\u001b[0m                 \u001b[0min_axis\u001b[0m\u001b[0;34m,\u001b[0m \u001b[0mname\u001b[0m\u001b[0;34m,\u001b[0m \u001b[0mgpr\u001b[0m \u001b[0;34m=\u001b[0m \u001b[0;32mTrue\u001b[0m\u001b[0;34m,\u001b[0m \u001b[0mgpr\u001b[0m\u001b[0;34m,\u001b[0m \u001b[0mobj\u001b[0m\u001b[0;34m[\u001b[0m\u001b[0mgpr\u001b[0m\u001b[0;34m]\u001b[0m\u001b[0;34m\u001b[0m\u001b[0;34m\u001b[0m\u001b[0m\n\u001b[1;32m    977\u001b[0m                 \u001b[0;32mif\u001b[0m \u001b[0mgpr\u001b[0m\u001b[0;34m.\u001b[0m\u001b[0mndim\u001b[0m \u001b[0;34m!=\u001b[0m \u001b[0;36m1\u001b[0m\u001b[0;34m:\u001b[0m\u001b[0;34m\u001b[0m\u001b[0;34m\u001b[0m\u001b[0m\n\u001b[1;32m    978\u001b[0m                     \u001b[0;31m# non-unique columns; raise here to get the name in the\u001b[0m\u001b[0;34m\u001b[0m\u001b[0;34m\u001b[0m\u001b[0m\n",
      "\u001b[0;32m~/anaconda3/lib/python3.11/site-packages/pandas/core/generic.py\u001b[0m in \u001b[0;36m?\u001b[0;34m(self, key, axis)\u001b[0m\n\u001b[1;32m   1731\u001b[0m             msg = (\n\u001b[1;32m   1732\u001b[0m                 \u001b[0;34mf\"'{key}' is both {level_article} {level_type} level and \"\u001b[0m\u001b[0;34m\u001b[0m\u001b[0;34m\u001b[0m\u001b[0m\n\u001b[1;32m   1733\u001b[0m                 \u001b[0;34mf\"{label_article} {label_type} label, which is ambiguous.\"\u001b[0m\u001b[0;34m\u001b[0m\u001b[0;34m\u001b[0m\u001b[0m\n\u001b[1;32m   1734\u001b[0m             )\n\u001b[0;32m-> 1735\u001b[0;31m             \u001b[0;32mraise\u001b[0m \u001b[0mValueError\u001b[0m\u001b[0;34m(\u001b[0m\u001b[0mmsg\u001b[0m\u001b[0;34m)\u001b[0m\u001b[0;34m\u001b[0m\u001b[0;34m\u001b[0m\u001b[0m\n\u001b[0m",
      "\u001b[0;31mValueError\u001b[0m: 'source' is both an index level and a column label, which is ambiguous."
     ]
    },
    {
     "data": {
      "text/plain": [
       "<Figure size 1200x800 with 0 Axes>"
      ]
     },
     "metadata": {},
     "output_type": "display_data"
    }
   ],
   "source": [
    "\n",
    "\n",
    "\n",
    "\n",
    "\n",
    "\n",
    "\n",
    "\n",
    "\n",
    "\n",
    "# Plotting the top-rated movies for each user ID format\n",
    "plt.figure(figsize=(12, 8))\n",
    "\n",
    "for user_format, data in top_rated_movies.groupby('source'):\n",
    "    sns.barplot(x='scaled_rating', y='title', data=data, palette='viridis', label=source)\n",
    "\n",
    "plt.title('Top-Rated Movies by User ID Format (with at least 5 reviews)')\n",
    "plt.xlabel('Average Rating')\n",
    "plt.ylabel('Movie Title')\n",
    "plt.legend(title='User ID Format')\n",
    "plt.show()"
   ]
  },
  {
   "cell_type": "markdown",
   "metadata": {},
   "source": [
    "### Highest Rated Movies"
   ]
  },
  {
   "cell_type": "code",
   "execution_count": 45,
   "metadata": {},
   "outputs": [
    {
     "data": {
      "text/plain": [
       "imdb_id\n",
       "tt0000001     5.400000\n",
       "tt0000003     6.230769\n",
       "tt0000005     7.222222\n",
       "tt0000007     5.500000\n",
       "tt0000008     5.060606\n",
       "               ...    \n",
       "tt9915686     5.615385\n",
       "tt9916190     8.129032\n",
       "tt9916270     4.000000\n",
       "tt9916362    10.000000\n",
       "tt9916428     8.000000\n",
       "Name: scaled_rating, Length: 244578, dtype: float64"
      ]
     },
     "execution_count": 45,
     "metadata": {},
     "output_type": "execute_result"
    }
   ],
   "source": [
    "# Calculate the average rating for each movie\n",
    "avg_ratings_per_movie = reviews.groupby('imdb_id')['scaled_rating'].mean()\n",
    "\n",
    "avg_ratings_per_movie"
   ]
  },
  {
   "cell_type": "code",
   "execution_count": null,
   "metadata": {},
   "outputs": [],
   "source": [
    "# Filter out movies with less than 5 reviews\n",
    "valid_movies = reviews_per_movie[reviews_per_movie >= 5].index"
   ]
  },
  {
   "cell_type": "code",
   "execution_count": 46,
   "metadata": {},
   "outputs": [
    {
     "data": {
      "text/plain": [
       "imdb_id\n",
       "tt0889165    10.0\n",
       "tt2993648    10.0\n",
       "tt0485904    10.0\n",
       "tt2995000    10.0\n",
       "tt0051941    10.0\n",
       "tt2995162    10.0\n",
       "tt0342453    10.0\n",
       "tt0051938    10.0\n",
       "tt0342333    10.0\n",
       "tt2995878    10.0\n",
       "Name: scaled_rating, dtype: float64"
      ]
     },
     "execution_count": 46,
     "metadata": {},
     "output_type": "execute_result"
    }
   ],
   "source": [
    "# Sort the movies based on their average ratings\n",
    "top_rated_movies = avg_ratings_per_movie.sort_values(ascending=False).head(10)\n",
    "\n",
    "top_rated_movies"
   ]
  },
  {
   "cell_type": "code",
   "execution_count": 48,
   "metadata": {},
   "outputs": [
    {
     "data": {
      "text/plain": [
       "array(['Mogli pericolose', 'An Abstraction on the Chronology of Will',\n",
       "       'Poop Notice', 'Strain',\n",
       "       'Magic on Music Mountain: The Story of the Lambertville Music Circus',\n",
       "       \"What's Love Got to Do with It?\", \"Fish Can't Fly\", 'Fûun jôshi',\n",
       "       'Mit Eva fing die Sünde an', 'En ausencia'], dtype=object)"
      ]
     },
     "execution_count": 48,
     "metadata": {},
     "output_type": "execute_result"
    }
   ],
   "source": [
    "# Get the titles of the top-rated movies\n",
    "top_rated_movie_titles = reviews[reviews['imdb_id'].isin(top_rated_movies.index)]['title'].unique()\n",
    "\n",
    "top_rated_movie_titles"
   ]
  },
  {
   "cell_type": "code",
   "execution_count": null,
   "metadata": {},
   "outputs": [],
   "source": [
    "# Plotting the top-rated movies\n",
    "plt.figure(figsize=(10, 6))\n",
    "\n",
    "sns.barplot(x=top_rated_movies.values, y=top_rated_movie_titles, palette='viridis')\n",
    "\n",
    "plt.title('Top-Rated Movies')\n",
    "plt.xlabel('Average Rating')\n",
    "plt.ylabel('Movie Title')\n",
    "\n",
    "plt.show()"
   ]
  },
  {
   "cell_type": "markdown",
   "metadata": {},
   "source": [
    "### Distribution of the Number of Reviews per Movie"
   ]
  },
  {
   "cell_type": "code",
   "execution_count": 76,
   "metadata": {},
   "outputs": [
    {
     "data": {
      "text/plain": [
       "imdb_id\n",
       "tt0000001    20\n",
       "tt0000003    26\n",
       "tt0000005    18\n",
       "tt0000007     8\n",
       "tt0000008    33\n",
       "             ..\n",
       "tt9911196     7\n",
       "tt9914546     6\n",
       "tt9914598     6\n",
       "tt9915686    13\n",
       "tt9916190    62\n",
       "Length: 94468, dtype: int64"
      ]
     },
     "execution_count": 76,
     "metadata": {},
     "output_type": "execute_result"
    }
   ],
   "source": [
    "reviews_per_movie = reviews_filtered.groupby('imdb_id').size()\n",
    "reviews_per_movie"
   ]
  },
  {
   "cell_type": "code",
   "execution_count": 77,
   "metadata": {},
   "outputs": [
    {
     "data": {
      "image/png": "[encoded data removed]",
      "text/plain": [
       "<Figure size 1000x600 with 1 Axes>"
      ]
     },
     "metadata": {},
     "output_type": "display_data"
    }
   ],
   "source": [
    "# Plotting the distribution of the number of reviews per movie\n",
    "plt.figure(figsize=(10, 6))\n",
    "sns.histplot(reviews_per_movie, bins=30, kde=True, color='skyblue')\n",
    "plt.title('Distribution of Number of Reviews per Movie')\n",
    "plt.xlabel('Number of Reviews')\n",
    "plt.ylabel('Frequency')\n",
    "plt.show()"
   ]
  },
  {
   "cell_type": "markdown",
   "metadata": {},
   "source": []
  }
 ],
 "metadata": {
  "kernelspec": {
   "display_name": "base",
   "language": "python",
   "name": "python3"
  },
  "language_info": {
   "codemirror_mode": {
    "name": "ipython",
    "version": 3
   },
   "file_extension": ".py",
   "mimetype": "text/x-python",
   "name": "python",
   "nbconvert_exporter": "python",
   "pygments_lexer": "ipython3",
   "version": "3.11.5"
  }
 },
 "nbformat": 4,
 "nbformat_minor": 2
}
