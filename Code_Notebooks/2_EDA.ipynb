{
 "cells": [
  {
   "cell_type": "markdown",
   "metadata": {},
   "source": [
    "# Exploratory Data Analysis\n",
    "In this notebook, we will look at data on the movies we have available to include in our modeling. Not all of this information will be used in modeling, but it will let us see trends and features of our data that may influence how our recommender system is set up or interpretted."
   ]
  },
  {
   "cell_type": "markdown",
   "metadata": {},
   "source": []
  }
 ],
 "metadata": {
  "language_info": {
   "name": "python"
  }
 },
 "nbformat": 4,
 "nbformat_minor": 2
}
