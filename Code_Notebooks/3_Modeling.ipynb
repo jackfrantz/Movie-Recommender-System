{
 "cells": [
  {
   "cell_type": "markdown",
   "metadata": {},
   "source": [
    "# Recommender System Modeling\n",
    "In this notebook, we will work through multiple iterations of our movie recommender system model. First, we will create a simpler model using just the movie reviews from IMDb. This will give us a baseline model that we can potentially improve on by adding more detailed features."
   ]
  },
  {
   "cell_type": "code",
   "execution_count": 1,
   "metadata": {},
   "outputs": [],
   "source": [
    "# Imports\n",
    "import pandas as pd\n",
    "import numpy as np\n",
    "from scipy import sparse\n",
    "from sklearn.metrics.pairwise import pairwise_distances, cosine_distances, cosine_similarity"
   ]
  },
  {
   "cell_type": "markdown",
   "metadata": {
    "vscode": {
     "languageId": "plaintext"
    }
   },
   "source": [
    "## Simple Recommender System\n",
    "This is a simple recommender system using cosine similarity that can be improved upon and replaced when all our data is properly formatted."
   ]
  },
  {
   "cell_type": "code",
   "execution_count": 2,
   "metadata": {},
   "outputs": [
    {
     "name": "stderr",
     "output_type": "stream",
     "text": [
      "/var/folders/jc/vvd13n2d3m33dzsrsg9ydhb00000gn/T/ipykernel_926/2414319021.py:2: DtypeWarning: Columns (0) have mixed types. Specify dtype option on import or set low_memory=False.\n",
      "  merged_reviews = pd.read_csv('../Data/Large-Data/merged_reviews.csv')\n"
     ]
    },
    {
     "data": {
      "text/html": [
       "<div>\n",
       "<style scoped>\n",
       "    .dataframe tbody tr th:only-of-type {\n",
       "        vertical-align: middle;\n",
       "    }\n",
       "\n",
       "    .dataframe tbody tr th {\n",
       "        vertical-align: top;\n",
       "    }\n",
       "\n",
       "    .dataframe thead th {\n",
       "        text-align: right;\n",
       "    }\n",
       "</style>\n",
       "<table border=\"1\" class=\"dataframe\">\n",
       "  <thead>\n",
       "    <tr style=\"text-align: right;\">\n",
       "      <th></th>\n",
       "      <th>user_id</th>\n",
       "      <th>imdb_id</th>\n",
       "      <th>scaled_rating</th>\n",
       "      <th>title</th>\n",
       "    </tr>\n",
       "  </thead>\n",
       "  <tbody>\n",
       "    <tr>\n",
       "      <th>0</th>\n",
       "      <td>1</td>\n",
       "      <td>tt0110912</td>\n",
       "      <td>10.0</td>\n",
       "      <td>Pulp Fiction</td>\n",
       "    </tr>\n",
       "    <tr>\n",
       "      <th>1</th>\n",
       "      <td>1</td>\n",
       "      <td>tt0111495</td>\n",
       "      <td>7.0</td>\n",
       "      <td>Trois couleurs: Rouge</td>\n",
       "    </tr>\n",
       "    <tr>\n",
       "      <th>2</th>\n",
       "      <td>1</td>\n",
       "      <td>tt0108394</td>\n",
       "      <td>10.0</td>\n",
       "      <td>Trois couleurs: Bleu</td>\n",
       "    </tr>\n",
       "    <tr>\n",
       "      <th>3</th>\n",
       "      <td>1</td>\n",
       "      <td>tt0114787</td>\n",
       "      <td>10.0</td>\n",
       "      <td>Underground</td>\n",
       "    </tr>\n",
       "    <tr>\n",
       "      <th>4</th>\n",
       "      <td>1</td>\n",
       "      <td>tt0045152</td>\n",
       "      <td>7.0</td>\n",
       "      <td>Singin' in the Rain</td>\n",
       "    </tr>\n",
       "    <tr>\n",
       "      <th>...</th>\n",
       "      <td>...</td>\n",
       "      <td>...</td>\n",
       "      <td>...</td>\n",
       "      <td>...</td>\n",
       "    </tr>\n",
       "    <tr>\n",
       "      <th>29326187</th>\n",
       "      <td>ur0581842</td>\n",
       "      <td>tt0107977</td>\n",
       "      <td>6.0</td>\n",
       "      <td>Robin Hood: Men in Tights</td>\n",
       "    </tr>\n",
       "    <tr>\n",
       "      <th>29326188</th>\n",
       "      <td>ur3174947</td>\n",
       "      <td>tt0103776</td>\n",
       "      <td>8.0</td>\n",
       "      <td>Batman Returns</td>\n",
       "    </tr>\n",
       "    <tr>\n",
       "      <th>29326189</th>\n",
       "      <td>ur4592639</td>\n",
       "      <td>tt0107423</td>\n",
       "      <td>9.0</td>\n",
       "      <td>Lipstick on Your Collar</td>\n",
       "    </tr>\n",
       "    <tr>\n",
       "      <th>29326190</th>\n",
       "      <td>ur4581944</td>\n",
       "      <td>tt0102614</td>\n",
       "      <td>8.0</td>\n",
       "      <td>Out for Justice</td>\n",
       "    </tr>\n",
       "    <tr>\n",
       "      <th>29326191</th>\n",
       "      <td>ur1162550</td>\n",
       "      <td>tt0325596</td>\n",
       "      <td>7.0</td>\n",
       "      <td>The I Inside</td>\n",
       "    </tr>\n",
       "  </tbody>\n",
       "</table>\n",
       "<p>29326192 rows × 4 columns</p>\n",
       "</div>"
      ],
      "text/plain": [
       "            user_id    imdb_id  scaled_rating                      title\n",
       "0                 1  tt0110912           10.0               Pulp Fiction\n",
       "1                 1  tt0111495            7.0      Trois couleurs: Rouge\n",
       "2                 1  tt0108394           10.0       Trois couleurs: Bleu\n",
       "3                 1  tt0114787           10.0                Underground\n",
       "4                 1  tt0045152            7.0        Singin' in the Rain\n",
       "...             ...        ...            ...                        ...\n",
       "29326187  ur0581842  tt0107977            6.0  Robin Hood: Men in Tights\n",
       "29326188  ur3174947  tt0103776            8.0             Batman Returns\n",
       "29326189  ur4592639  tt0107423            9.0    Lipstick on Your Collar\n",
       "29326190  ur4581944  tt0102614            8.0            Out for Justice\n",
       "29326191  ur1162550  tt0325596            7.0               The I Inside\n",
       "\n",
       "[29326192 rows x 4 columns]"
      ]
     },
     "execution_count": 2,
     "metadata": {},
     "output_type": "execute_result"
    }
   ],
   "source": [
    "# read in merged review data\n",
    "merged_reviews = pd.read_csv('../Data/Large-Data/merged_reviews.csv')\n",
    "merged_reviews"
   ]
  },
  {
   "cell_type": "code",
   "execution_count": 3,
   "metadata": {},
   "outputs": [
    {
     "name": "stderr",
     "output_type": "stream",
     "text": [
      "/var/folders/jc/vvd13n2d3m33dzsrsg9ydhb00000gn/T/ipykernel_926/1184987666.py:1: PerformanceWarning: The following operation may generate 350618041382 cells in the resulting pandas object.\n",
      "  pivot = merged_reviews.pivot_table(values = 'scaled_rating', index = 'title', columns = 'user_id')\n"
     ]
    },
    {
     "ename": "",
     "evalue": "",
     "output_type": "error",
     "traceback": [
      "\u001b[1;31mThe Kernel crashed while executing code in the current cell or a previous cell. \n",
      "\u001b[1;31mPlease review the code in the cell(s) to identify a possible cause of the failure. \n",
      "\u001b[1;31mClick <a href='https://aka.ms/vscodeJupyterKernelCrash'>here</a> for more info. \n",
      "\u001b[1;31mView Jupyter <a href='command:jupyter.viewOutput'>log</a> for further details."
     ]
    }
   ],
   "source": [
    "pivot = merged_reviews.pivot_table(values = 'scaled_rating', index = 'title', columns = 'user_id')\n",
    "\n",
    "pivot.head()"
   ]
  },
  {
   "cell_type": "code",
   "execution_count": null,
   "metadata": {},
   "outputs": [],
   "source": [
    "pivot.shape"
   ]
  },
  {
   "cell_type": "code",
   "execution_count": null,
   "metadata": {},
   "outputs": [],
   "source": [
    "pivot_sparse = sparse.csr_matrix(pivot.fillna(0))"
   ]
  },
  {
   "cell_type": "code",
   "execution_count": null,
   "metadata": {},
   "outputs": [],
   "source": [
    "distances = pairwise_distances(pivot_sparse, metric = 'cosine')"
   ]
  },
  {
   "cell_type": "code",
   "execution_count": null,
   "metadata": {},
   "outputs": [],
   "source": [
    "similarities = 1.0 - distances"
   ]
  },
  {
   "cell_type": "code",
   "execution_count": null,
   "metadata": {},
   "outputs": [],
   "source": [
    "recommender = pd.DataFrame(similarities, index = pivot.index, columns=pivot.index)\n",
    "\n",
    "recommender.head()"
   ]
  },
  {
   "cell_type": "code",
   "execution_count": null,
   "metadata": {},
   "outputs": [],
   "source": []
  }
 ],
 "metadata": {
  "kernelspec": {
   "display_name": "base",
   "language": "python",
   "name": "python3"
  },
  "language_info": {
   "codemirror_mode": {
    "name": "ipython",
    "version": 3
   },
   "file_extension": ".py",
   "mimetype": "text/x-python",
   "name": "python",
   "nbconvert_exporter": "python",
   "pygments_lexer": "ipython3",
   "version": "3.11.5"
  }
 },
 "nbformat": 4,
 "nbformat_minor": 2
}
